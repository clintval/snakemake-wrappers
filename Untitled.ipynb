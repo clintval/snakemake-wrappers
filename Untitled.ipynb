{
 "cells": [
  {
   "cell_type": "code",
   "execution_count": 1,
   "metadata": {},
   "outputs": [
    {
     "ename": "AssertionError",
     "evalue": "Wrapper does not exist: /Users/cvalentine/repositories/snakescale/snakescale/wrappers/latest/picard/wrapper.py",
     "output_type": "error",
     "traceback": [
      "\u001b[0;31m---------------------------------------------------------------------------\u001b[0m",
      "\u001b[0;31mAssertionError\u001b[0m                            Traceback (most recent call last)",
      "\u001b[0;32m<ipython-input-1-dd11445bae87>\u001b[0m in \u001b[0;36m<module>\u001b[0;34m\u001b[0m\n\u001b[1;32m      1\u001b[0m \u001b[0;32mfrom\u001b[0m \u001b[0msnakescale\u001b[0m \u001b[0;32mimport\u001b[0m \u001b[0mscale\u001b[0m\u001b[0;34m\u001b[0m\u001b[0;34m\u001b[0m\u001b[0m\n\u001b[1;32m      2\u001b[0m \u001b[0;34m\u001b[0m\u001b[0m\n\u001b[0;32m----> 3\u001b[0;31m \u001b[0mscale\u001b[0m\u001b[0;34m(\u001b[0m\u001b[0;34m'picard'\u001b[0m\u001b[0;34m)\u001b[0m\u001b[0;34m\u001b[0m\u001b[0;34m\u001b[0m\u001b[0m\n\u001b[0m",
      "\u001b[0;32m~/repositories/snakescale/snakescale/__init__.py\u001b[0m in \u001b[0;36mscale\u001b[0;34m(suite, tool, version)\u001b[0m\n\u001b[1;32m     26\u001b[0m     \u001b[0mwrapper_dir\u001b[0m \u001b[0;34m=\u001b[0m \u001b[0mwrapper_dir\u001b[0m \u001b[0;34m/\u001b[0m \u001b[0mtool\u001b[0m \u001b[0;32mif\u001b[0m \u001b[0mtool\u001b[0m \u001b[0;32mis\u001b[0m \u001b[0;32mnot\u001b[0m \u001b[0;32mNone\u001b[0m \u001b[0;32melse\u001b[0m \u001b[0mwrapper_dir\u001b[0m\u001b[0;34m\u001b[0m\u001b[0;34m\u001b[0m\u001b[0m\n\u001b[1;32m     27\u001b[0m     \u001b[0mwrapper_file\u001b[0m \u001b[0;34m=\u001b[0m \u001b[0mwrapper_dir\u001b[0m \u001b[0;34m/\u001b[0m \u001b[0mDEFAULT_SCALE_FILENAME\u001b[0m\u001b[0;34m\u001b[0m\u001b[0;34m\u001b[0m\u001b[0m\n\u001b[0;32m---> 28\u001b[0;31m     \u001b[0;32massert\u001b[0m \u001b[0mwrapper_file\u001b[0m\u001b[0;34m.\u001b[0m\u001b[0mexists\u001b[0m\u001b[0;34m(\u001b[0m\u001b[0;34m)\u001b[0m\u001b[0;34m,\u001b[0m \u001b[0;34mf'Wrapper does not exist: {wrapper_file}'\u001b[0m\u001b[0;34m\u001b[0m\u001b[0;34m\u001b[0m\u001b[0m\n\u001b[0m\u001b[1;32m     29\u001b[0m     \u001b[0;32mreturn\u001b[0m \u001b[0mwrapper_dir\u001b[0m\u001b[0;34m.\u001b[0m\u001b[0mas_uri\u001b[0m\u001b[0;34m(\u001b[0m\u001b[0;34m)\u001b[0m\u001b[0;34m\u001b[0m\u001b[0;34m\u001b[0m\u001b[0m\n",
      "\u001b[0;31mAssertionError\u001b[0m: Wrapper does not exist: /Users/cvalentine/repositories/snakescale/snakescale/wrappers/latest/picard/wrapper.py"
     ]
    }
   ],
   "source": [
    "from snakescale import scale\n",
    "\n",
    "scale('picard')"
   ]
  },
  {
   "cell_type": "code",
   "execution_count": 5,
   "metadata": {},
   "outputs": [
    {
     "data": {
      "text/plain": [
       "['bed_to_interval',\n",
       " 'check_illumina_directory',\n",
       " 'collect_alignment_summary_metrics',\n",
       " 'collect_base_distribution_by_cycle',\n",
       " 'collect_gc_bias_metrics',\n",
       " 'collect_hs_metrics',\n",
       " 'collect_illumina_basecalling_metrics',\n",
       " 'collect_illumina_lane_metrics',\n",
       " 'collect_insert_size_metrics',\n",
       " 'collect_oxo_g_metrics',\n",
       " 'collect_quality_yield_metrics',\n",
       " 'collect_sequencing_artifact_metrics',\n",
       " 'extract_illumina_barcodes',\n",
       " 'filter_sam_reads',\n",
       " 'illumina_basecalls_to_sam',\n",
       " 'mark_duplicates',\n",
       " 'merge_sam_files',\n",
       " 'quality_score_distribution',\n",
       " 'sort_sam',\n",
       " 'sort_vcf']"
      ]
     },
     "execution_count": 5,
     "metadata": {},
     "output_type": "execute_result"
    }
   ],
   "source": [
    "from typing import Set\n",
    "from snakescale import available_subtools, available_tools\n",
    "\n",
    "available_tools(version='latest')\n",
    "available_subtools('picard')"
   ]
  },
  {
   "cell_type": "code",
   "execution_count": 17,
   "metadata": {},
   "outputs": [
    {
     "name": "stderr",
     "output_type": "stream",
     "text": [
      "usage: ipykernel_launcher.py [-h] [--dryrun] [--profile PROFILE]\n",
      "                             [--snakefile FILE] [--cores [N]]\n",
      "                             [--local-cores N]\n",
      "                             [--resources [NAME=INT [NAME=INT ...]]]\n",
      "                             [--config [KEY=VALUE [KEY=VALUE ...]]]\n",
      "                             [--configfile FILE] [--directory DIR] [--touch]\n",
      "                             [--keep-going] [--force] [--forceall]\n",
      "                             [--forcerun [TARGET [TARGET ...]]]\n",
      "                             [--prioritize TARGET [TARGET ...]]\n",
      "                             [--until TARGET [TARGET ...]]\n",
      "                             [--omit-from TARGET [TARGET ...]]\n",
      "                             [--rerun-incomplete] [--shadow-prefix DIR]\n",
      "                             [--report HTMLFILE] [--export-cwl FILE] [--list]\n",
      "                             [--list-target-rules] [--dag] [--rulegraph]\n",
      "                             [--d3dag] [--summary] [--detailed-summary]\n",
      "                             [--archive FILE]\n",
      "                             [--cleanup-metadata FILE [FILE ...]]\n",
      "                             [--cleanup-shadow] [--unlock]\n",
      "                             [--list-version-changes] [--list-code-changes]\n",
      "                             [--list-input-changes] [--list-params-changes]\n",
      "                             [--list-untracked] [--delete-all-output]\n",
      "                             [--delete-temp-output] [--bash-completion]\n",
      "                             [--version] [--reason] [--gui [PORT]]\n",
      "                             [--printshellcmds] [--debug-dag] [--stats FILE]\n",
      "                             [--nocolor] [--quiet] [--print-compilation]\n",
      "                             [--verbose] [--force-use-threads]\n",
      "                             [--allow-ambiguity] [--nolock]\n",
      "                             [--ignore-incomplete] [--latency-wait SECONDS]\n",
      "                             [--wait-for-files [FILE [FILE ...]]] [--notemp]\n",
      "                             [--keep-remote] [--keep-target-files]\n",
      "                             [--allowed-rules ALLOWED_RULES [ALLOWED_RULES ...]]\n",
      "                             [--max-jobs-per-second MAX_JOBS_PER_SECOND]\n",
      "                             [--max-status-checks-per-second MAX_STATUS_CHECKS_PER_SECOND]\n",
      "                             [--restart-times RESTART_TIMES]\n",
      "                             [--attempt ATTEMPT]\n",
      "                             [--wrapper-prefix WRAPPER_PREFIX]\n",
      "                             [--default-remote-provider {S3,GS,FTP,SFTP,S3Mocked,gfal,gridftp,iRODS}]\n",
      "                             [--default-remote-prefix DEFAULT_REMOTE_PREFIX]\n",
      "                             [--no-shared-fs] [--greediness GREEDINESS]\n",
      "                             [--no-hooks]\n",
      "                             [--overwrite-shellcmd OVERWRITE_SHELLCMD]\n",
      "                             [--debug] [--runtime-profile FILE]\n",
      "                             [--mode {0,1,2}]\n",
      "                             [--cluster CMD | --cluster-sync CMD | --drmaa [ARGS]]\n",
      "                             [--cluster-config FILE] [--immediate-submit]\n",
      "                             [--jobscript SCRIPT] [--jobname NAME]\n",
      "                             [--cluster-status CLUSTER_STATUS]\n",
      "                             [--drmaa-log-dir DIR] [--kubernetes [NAMESPACE]]\n",
      "                             [--kubernetes-env ENVVAR [ENVVAR ...]]\n",
      "                             [--container-image IMAGE] [--use-conda]\n",
      "                             [--list-conda-envs] [--cleanup-conda]\n",
      "                             [--conda-prefix DIR] [--create-envs-only]\n",
      "                             [--use-singularity] [--singularity-prefix DIR]\n",
      "                             [--singularity-args ARGS]\n",
      "                             [target [target ...]]\n",
      "ipykernel_launcher.py: error: argument --directory/-d: expected one argument\n"
     ]
    }
   ],
   "source": [
    "import os\n",
    "\n",
    "\n",
    "\n",
    "here = '/Users/cvalentine/repositories/snakescale/snakescale/wrappers/latest/bedtools/subtract/test'\n",
    "\n",
    "try:\n",
    "    cli(f'--directory {here} -d')\n",
    "except SystemExit as e:\n",
    "    exit_code = ExitCode(e.code)"
   ]
  },
  {
   "cell_type": "code",
   "execution_count": 12,
   "metadata": {},
   "outputs": [],
   "source": [
    "from snakescale.testing import run_tool_test\n",
    "\n",
    "process_return = run_tool_test('bedtools', 'subtract', 'latest')"
   ]
  },
  {
   "cell_type": "code",
   "execution_count": 18,
   "metadata": {},
   "outputs": [
    {
     "data": {
      "text/plain": [
       "[PosixPath('/Users/cvalentine/repositories/snakescale/snakescale/wrappers/latest/bedtools/subtract/test/Snakefile')]"
      ]
     },
     "execution_count": 18,
     "metadata": {},
     "output_type": "execute_result"
    }
   ],
   "source": [
    "import snakescale\n",
    "\n",
    "list(snakescale.WRAPPER_ROOT_PATH.rglob('Snakefile'))"
   ]
  },
  {
   "cell_type": "code",
   "execution_count": null,
   "metadata": {},
   "outputs": [],
   "source": []
  },
  {
   "cell_type": "code",
   "execution_count": null,
   "metadata": {},
   "outputs": [],
   "source": []
  },
  {
   "cell_type": "code",
   "execution_count": 21,
   "metadata": {},
   "outputs": [
    {
     "name": "stdout",
     "output_type": "stream",
     "text": [
      "sort_sam\n",
      "collect_quality_yield_metrics\n",
      "collect_illumina_basecalling_metrics\n",
      "collect_base_distribution_by_cycle\n",
      "illumina_basecalls_to_sam\n",
      "collect_insert_size_metrics\n",
      "collect_gc_bias_metrics\n",
      "quality_score_distribution\n",
      "mark_duplicates\n",
      "extract_illumina_barcodes\n",
      "merge_sam_files\n",
      "collect_alignment_summary_metrics\n",
      "bed_to_interval\n",
      "sort_vcf\n",
      "check_illumina_directory\n",
      "collect_sequencing_artifact_metrics\n",
      "filter_sam_reads\n",
      "collect_oxo_g_metrics\n",
      "collect_hs_metrics\n",
      "collect_illumina_lane_metrics\n"
     ]
    }
   ],
   "source": [
    "import snakescale\n",
    "\n",
    "from snakescale import DEFAULT_SCALE_FILENAME\n",
    "\n",
    "possible_wrapper_paths = snakescale.wrappers_root() / 'latest'/ 'picard'\n",
    "\n",
    "for path in possible_wrapper_paths.rglob(DEFAULT_SCALE_FILENAME):\n",
    "    path.parent.name"
   ]
  }
 ],
 "metadata": {
  "kernelspec": {
   "display_name": "Python 3",
   "language": "python",
   "name": "python3"
  },
  "language_info": {
   "codemirror_mode": {
    "name": "ipython",
    "version": 3
   },
   "file_extension": ".py",
   "mimetype": "text/x-python",
   "name": "python",
   "nbconvert_exporter": "python",
   "pygments_lexer": "ipython3",
   "version": "3.6.7"
  }
 },
 "nbformat": 4,
 "nbformat_minor": 2
}
